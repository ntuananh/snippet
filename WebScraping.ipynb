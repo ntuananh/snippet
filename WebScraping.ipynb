{
  "nbformat": 4,
  "nbformat_minor": 0,
  "metadata": {
    "colab": {
      "name": "WebScraping.ipynb",
      "version": "0.3.2",
      "provenance": [],
      "include_colab_link": true
    },
    "kernelspec": {
      "name": "python3",
      "display_name": "Python 3"
    }
  },
  "cells": [
    {
      "cell_type": "markdown",
      "metadata": {
        "id": "view-in-github",
        "colab_type": "text"
      },
      "source": [
        "<a href=\"https://colab.research.google.com/github/ntuananh/snippet/blob/master/WebScraping.ipynb\" target=\"_parent\"><img src=\"https://colab.research.google.com/assets/colab-badge.svg\" alt=\"Open In Colab\"/></a>"
      ]
    },
    {
      "metadata": {
        "id": "BkIKbO8zWQDB",
        "colab_type": "code",
        "outputId": "4d159c7b-b41f-446f-e18d-683e5c58d71c",
        "colab": {
          "base_uri": "https://localhost:8080/",
          "height": 34
        }
      },
      "cell_type": "code",
      "source": [
        "# install libraries\n",
        "!pip install beautifulsoup4"
      ],
      "execution_count": 0,
      "outputs": [
        {
          "output_type": "stream",
          "text": [
            "Requirement already satisfied: beautifulsoup4 in /usr/local/lib/python3.6/dist-packages (4.6.3)\n"
          ],
          "name": "stdout"
        }
      ]
    },
    {
      "metadata": {
        "id": "IFU1CHhnWbeI",
        "colab_type": "code",
        "colab": {}
      },
      "cell_type": "code",
      "source": [
        "# import libraries\n",
        "from urllib.request import urlopen\n",
        "from bs4 import BeautifulSoup"
      ],
      "execution_count": 0,
      "outputs": []
    },
    {
      "metadata": {
        "id": "Gb0vJE8kXg33",
        "colab_type": "code",
        "colab": {}
      },
      "cell_type": "code",
      "source": [
        "url = \"http://genk.vn\"\n",
        "\n",
        "try:\n",
        "  page = urlopen(url)\n",
        "except:\n",
        "    print(\"Error opening the URL\")\n",
        "\n",
        "soup = BeautifulSoup(page, 'html.parser')\n",
        "\n",
        "content = soup.find(attrs={\"id\": \"LoadListCate\"})\n",
        "\n",
        "results = []\n",
        "\n",
        "for item in content.findAll('li'):\n",
        "    article = {\n",
        "        \"title\": item.find('a')['title'],\n",
        "        \"link\": url + item.find('a').get('href')\n",
        "    }\n",
        "    results.append(article)"
      ],
      "execution_count": 0,
      "outputs": []
    },
    {
      "metadata": {
        "id": "35vqiSRbYG6X",
        "colab_type": "code",
        "outputId": "15e5fd4e-1199-4735-a920-40b452f2c1c1",
        "colab": {
          "base_uri": "https://localhost:8080/",
          "height": 54
        }
      },
      "cell_type": "code",
      "source": [
        "print(results)"
      ],
      "execution_count": 0,
      "outputs": [
        {
          "output_type": "stream",
          "text": [
            "[{'title': 'Huawei chính thức xác nhận sẽ ra mắt smartphone màn hình gập vào ngày 24/2', 'link': 'http://genk.vn/huawei-chinh-thuc-xac-nhan-se-ra-mat-smartphone-man-hinh-gap-vao-ngay-24-2-20190201175528718.chn'}, {'title': 'Bật mí bí kíp đón tết chất chơi thời công nghệ, rinh ngay tay ga SH', 'link': 'http://genk.vn/bat-mi-bi-kip-don-tet-chat-choi-thoi-cong-nghe-rinh-ngay-tay-ga-sh-20190201154712171.chn'}, {'title': 'Cinnamon AI gọi vốn thành công 15 triệu USD vòng series B và tiến vào thị trường Mỹ', 'link': 'http://genk.vn/cinnamon-ai-goi-von-thanh-cong-15-trieu-usd-vong-series-b-va-tien-vao-thi-truong-my-20190201155026671.chn'}, {'title': 'Smartphone màn hình gập sẽ giết chết tablet!', 'link': 'http://genk.vn/smartphone-man-hinh-gap-se-giet-chet-tablet-20190131224857059.chn'}, {'title': 'Lỗi bàn phím MacBook có thể được giải quyết tận gốc bằng bàn phím gương', 'link': 'http://genk.vn/loi-ban-phim-macbook-co-the-duoc-giai-quyet-tan-goc-bang-ban-phim-guong-20190201013710966.chn'}, {'title': 'Quên 2018 đi được rồi, vì 2019 sẽ là năm đáng chờ đợi nhất của tín đồ smartphone', 'link': 'http://genk.vn/2019-se-la-nam-dang-cho-doi-nhat-cua-tin-do-smartphone-20190122232050897.chn'}, {'title': 'Bán lượt like giả và follow giả sẽ là bất hợp pháp tại New York', 'link': 'http://genk.vn/ban-luot-like-gia-va-follow-gia-se-la-bat-hop-phap-tai-new-york-20190201115353906.chn'}, {'title': 'Cú lừa đầu năm: Tưởng có niên đại 4.000 năm, hóa ra vòng đá này mới chỉ... 20 tuổi', 'link': 'http://genk.vn/cu-lua-dau-nam-tuong-co-nien-dai-4000-nam-hoa-ra-vong-da-nay-moi-chi-20-tuoi-20190201113500749.chn'}, {'title': 'Sau Facebook, Apple chuẩn bị cho phép các ứng dụng nội bộ của Google trên iOS hoạt động trở lại', 'link': 'http://genk.vn/sau-facebook-apple-chuan-bi-cho-phep-cac-ung-dung-noi-bo-cua-google-tren-ios-hoat-dong-tro-lai-20190201124108484.chn'}, {'title': 'VinaPhone tuyên bố hỗ trợ hoà mạng eSIM tại nhà, khách hàng có thể đăng ký ngay hôm nay', 'link': 'http://genk.vn/vinaphone-tuyen-bo-ho-tro-hoa-mang-esim-tai-nha-khach-hang-co-the-dang-ky-ngay-hom-nay-20190201121606984.chn'}, {'title': 'Phụ nữ Hàn Quốc thách thức chuẩn mực: Từ một đất nước ám ảnh nét đẹp hoàn hảo đến tự tin phô bày nhan sắc tự nhiên', 'link': 'http://genk.vn/phu-nu-han-quoc-thach-thuc-chuan-muc-tu-mot-dat-nuoc-am-anh-net-dep-hoan-hao-den-tu-tin-pho-bay-nhan-sac-tu-nhien-20190201120445249.chn'}, {'title': 'Chuyện hài nhưng thật trong Battlefield V: Người chơi chỉnh đồ họa xuống mức xấu tệ để gian lận trong game', 'link': 'http://genk.vn/chuyen-hai-nhung-that-trong-battlefield-v-nguoi-choi-chinh-do-hoa-xuong-muc-xau-te-de-gian-lan-trong-game-20190128110044647.chn'}, {'title': 'Quên 2018 đi được rồi, vì 2019 sẽ là năm đáng chờ đợi nhất của tín đồ smartphone', 'link': 'http://genk.vn/2019-se-la-nam-dang-cho-doi-nhat-cua-tin-do-smartphone-20190122232050897.chn'}, {'title': '', 'link': 'http://genk.vn/tien-nu-cu-ta-mat-hoc-sinh-than-hinh-luc-si-tu-co-gai-gay-nhang-den-bieu-tuong-the-thao-dinh-dam-canada-20190131103750855.chn'}, {'title': 'Lợi dụng chính phủ Mỹ đóng cửa, 60 con hải tượng chiếm luôn bãi biển nổi tiếng ở California và không chịu rời đi', 'link': 'http://genk.vn/loi-dung-chinh-phu-my-dong-cua-60-con-hai-tuong-chiem-luon-bai-bien-noi-tieng-o-california-va-khong-chiu-roi-di-20190131124010792.chn'}, {'title': 'Sau 2 ngày cấm, Apple cho phép các ứng dụng nội bộ của Facebook hoạt động trở lại', 'link': 'http://genk.vn/sau-2-ngay-cam-apple-cho-phep-cac-ung-dung-noi-bo-cua-facebook-hoat-dong-tro-lai-20190201112714015.chn'}, {'title': 'Phong tục lì xì, 12 con giáp được gìn giữ trong thời đại 4.0', 'link': 'http://genk.vn/phong-tuc-li-xi-12-con-giap-duoc-gin-giu-trong-thoi-dai-40-20190130141936553.chn'}, {'title': 'Google thực hiện những bước đầu tiên nhằm xóa sổ URL', 'link': 'http://genk.vn/google-thuc-hien-nhung-buoc-dau-tien-nham-xoa-so-url-20190131003916678.chn'}, {'title': 'LG công bố lợi nhuận kỷ lục trong năm 2018 nhưng mảng di động vẫn tiếp tục thua lỗ 700 triệu USD', 'link': 'http://genk.vn/lg-cong-bo-loi-nhuan-ky-luc-trong-nam-2018-nhung-mang-di-dong-van-tiep-tuc-thua-lo-700-trieu-usd-20190201090445531.chn'}, {'title': 'Vì sao máy nghe lén và tin tặc không xâm nhập nổi hệ thống của Putin?', 'link': 'http://genk.vn/vi-sao-may-nghe-len-va-tin-tac-khong-xam-nhap-noi-he-thong-cua-putin-20190201084514218.chn'}, {'title': 'Apple chặn tất cả ứng dụng nội bộ của Google trên iOS, bao gồm cả bản test của Gmail, Google Maps và Hangouts', 'link': 'http://genk.vn/apple-khoa-tat-ca-ung-dung-noi-bo-cua-google-tren-ios-20190201083250531.chn'}, {'title': 'Xin lỗi, trên đời không có món ăn nào giải được rượu đâu', 'link': 'http://genk.vn/xin-loi-tren-doi-khong-co-mon-an-nao-giai-duoc-ruou-dau-20190125174650147.chn'}, {'title': 'Vì sao máy nghe lén và tin tặc không xâm nhập nổi hệ thống của Putin?', 'link': 'http://genk.vn/vi-sao-may-nghe-len-va-tin-tac-khong-xam-nhap-noi-he-thong-cua-putin-20190201084514218.chn'}, {'title': 'Bangkok lần đầu tiên sử dụng drone phun nước vào không khí để giảm bụi độc hại PM2.5', 'link': 'http://genk.vn/bangkok-lan-dau-tien-su-dung-drone-phun-nuoc-vao-khong-khi-de-giam-bui-doc-hai-pm25-20190201030503779.chn'}, {'title': 'Trung Quốc chính thức công nhận chơi game là một nghề', 'link': 'http://genk.vn/trung-quoc-chinh-thuc-cong-nhan-choi-game-video-la-mot-nghe-20190201003547544.chn'}, {'title': 'Samsung đang tiến rất gần tới việc mua lại công ty đang nắm giữ công nghệ zoom quang học 10x này', 'link': 'http://genk.vn/samsung-dang-tien-rat-gan-toi-viec-mua-lai-cong-ty-dang-nam-giu-cong-nghe-zoom-quang-hoc-10x-nay-20190128191938256.chn'}, {'title': 'Apple chặn tất cả ứng dụng nội bộ của Google trên iOS, bao gồm cả bản test của Gmail, Google Maps và Hangouts', 'link': 'http://genk.vn/apple-khoa-tat-ca-ung-dung-noi-bo-cua-google-tren-ios-20190201083250531.chn'}, {'title': 'Tương lai của Qualcomm giờ đây nằm trong tay của vị thẩm phán từng xét xử vụ Samsung - Apple', 'link': 'http://genk.vn/tuong-lai-cua-qualcomm-gio-day-nam-trong-tay-cua-vi-tham-phan-tung-xet-xu-vu-samsung-apple-20190131105815886.chn'}, {'title': 'Quên 2018 đi được rồi, vì 2019 sẽ là năm đáng chờ đợi nhất của tín đồ smartphone', 'link': 'http://genk.vn/2019-se-la-nam-dang-cho-doi-nhat-cua-tin-do-smartphone-20190122232050897.chn'}, {'title': 'Giả mạo số điện thoại của người khác để thực hiện gọi quốc tế, tên tội phạm lĩnh án 65 tháng tù giam', 'link': 'http://genk.vn/gia-mao-so-dien-thoai-cua-nguoi-khac-de-thuc-hien-goi-quoc-te-ten-toi-pham-linh-an-65-thang-tu-giam-20190131182938887.chn'}, {'title': 'Báo cáo của Kantar Worldpanel: Huawei và Xiaomi thắng đậm tại châu Âu, Apple vẫn thống trị đất Mỹ', 'link': 'http://genk.vn/bao-cao-cua-kantar-worldpanel-huawei-va-xiaomi-thang-dam-tai-chau-au-apple-van-thong-tri-dat-my-20190131215452543.chn'}, {'title': 'Amazon vượt qua kỳ vọng của phố Wall trong kết quả Quý 4 2018, mảng đám mây mang lại 2/3 lợi nhuận cả công ty', 'link': 'http://genk.vn/amazon-vuot-qua-ky-vong-cua-pho-wall-trong-ket-qua-quy-4-2018-mang-dam-may-mang-lai-2-3-loi-nhuan-ca-cong-ty-2019020107595289.chn'}, {'title': 'Fan Liên Quân Mobile “phát sốt” với trend mới, Cris Devil Gamer, bé Chanh,Msuong cũng không đứng ngoài cuộc', 'link': 'http://genk.vn/fan-lien-quan-mobile-phat-sot-voi-trend-moi-cris-devil-gamer-be-chanhmsuong-cung-khong-dung-ngoai-cuoc-20190131163413136.chn'}, {'title': 'Sau VinaPhone, đến lượt Viettel triển khai eSIM tại Việt Nam', 'link': 'http://genk.vn/sau-vinaphone-den-luot-viettel-trien-khai-esim-tai-viet-nam-20190201072944484.chn'}, {'title': 'Galaxy S10 Plus lộ ảnh render chính thức với cụm 3 camera nằm ngang, màn hình đục lỗ, màu Prism White', 'link': 'http://genk.vn/galaxy-s10-plus-lo-anh-render-chinh-thuc-voi-cum-3-camera-nam-ngang-man-hinh-duc-lo-mau-prism-white-20190201014829247.chn'}]\n"
          ],
          "name": "stdout"
        }
      ]
    },
    {
      "metadata": {
        "id": "IyJC-xm-c67k",
        "colab_type": "code",
        "outputId": "6ed3baf1-8a9d-404d-cebf-fa4fe82f8b48",
        "colab": {
          "base_uri": "https://localhost:8080/",
          "height": 1802
        }
      },
      "cell_type": "code",
      "source": [
        "for item in results:\n",
        "  print(item['title'])\n",
        "  print(item['link'])\n",
        "  print()"
      ],
      "execution_count": 0,
      "outputs": [
        {
          "output_type": "stream",
          "text": [
            "Huawei chính thức xác nhận sẽ ra mắt smartphone màn hình gập vào ngày 24/2\n",
            "http://genk.vn/huawei-chinh-thuc-xac-nhan-se-ra-mat-smartphone-man-hinh-gap-vao-ngay-24-2-20190201175528718.chn\n",
            "\n",
            "Bật mí bí kíp đón tết chất chơi thời công nghệ, rinh ngay tay ga SH\n",
            "http://genk.vn/bat-mi-bi-kip-don-tet-chat-choi-thoi-cong-nghe-rinh-ngay-tay-ga-sh-20190201154712171.chn\n",
            "\n",
            "Cinnamon AI gọi vốn thành công 15 triệu USD vòng series B và tiến vào thị trường Mỹ\n",
            "http://genk.vn/cinnamon-ai-goi-von-thanh-cong-15-trieu-usd-vong-series-b-va-tien-vao-thi-truong-my-20190201155026671.chn\n",
            "\n",
            "Smartphone màn hình gập sẽ giết chết tablet!\n",
            "http://genk.vn/smartphone-man-hinh-gap-se-giet-chet-tablet-20190131224857059.chn\n",
            "\n",
            "Lỗi bàn phím MacBook có thể được giải quyết tận gốc bằng bàn phím gương\n",
            "http://genk.vn/loi-ban-phim-macbook-co-the-duoc-giai-quyet-tan-goc-bang-ban-phim-guong-20190201013710966.chn\n",
            "\n",
            "Quên 2018 đi được rồi, vì 2019 sẽ là năm đáng chờ đợi nhất của tín đồ smartphone\n",
            "http://genk.vn/2019-se-la-nam-dang-cho-doi-nhat-cua-tin-do-smartphone-20190122232050897.chn\n",
            "\n",
            "Bán lượt like giả và follow giả sẽ là bất hợp pháp tại New York\n",
            "http://genk.vn/ban-luot-like-gia-va-follow-gia-se-la-bat-hop-phap-tai-new-york-20190201115353906.chn\n",
            "\n",
            "Cú lừa đầu năm: Tưởng có niên đại 4.000 năm, hóa ra vòng đá này mới chỉ... 20 tuổi\n",
            "http://genk.vn/cu-lua-dau-nam-tuong-co-nien-dai-4000-nam-hoa-ra-vong-da-nay-moi-chi-20-tuoi-20190201113500749.chn\n",
            "\n",
            "Sau Facebook, Apple chuẩn bị cho phép các ứng dụng nội bộ của Google trên iOS hoạt động trở lại\n",
            "http://genk.vn/sau-facebook-apple-chuan-bi-cho-phep-cac-ung-dung-noi-bo-cua-google-tren-ios-hoat-dong-tro-lai-20190201124108484.chn\n",
            "\n",
            "VinaPhone tuyên bố hỗ trợ hoà mạng eSIM tại nhà, khách hàng có thể đăng ký ngay hôm nay\n",
            "http://genk.vn/vinaphone-tuyen-bo-ho-tro-hoa-mang-esim-tai-nha-khach-hang-co-the-dang-ky-ngay-hom-nay-20190201121606984.chn\n",
            "\n",
            "Phụ nữ Hàn Quốc thách thức chuẩn mực: Từ một đất nước ám ảnh nét đẹp hoàn hảo đến tự tin phô bày nhan sắc tự nhiên\n",
            "http://genk.vn/phu-nu-han-quoc-thach-thuc-chuan-muc-tu-mot-dat-nuoc-am-anh-net-dep-hoan-hao-den-tu-tin-pho-bay-nhan-sac-tu-nhien-20190201120445249.chn\n",
            "\n",
            "Chuyện hài nhưng thật trong Battlefield V: Người chơi chỉnh đồ họa xuống mức xấu tệ để gian lận trong game\n",
            "http://genk.vn/chuyen-hai-nhung-that-trong-battlefield-v-nguoi-choi-chinh-do-hoa-xuong-muc-xau-te-de-gian-lan-trong-game-20190128110044647.chn\n",
            "\n",
            "Quên 2018 đi được rồi, vì 2019 sẽ là năm đáng chờ đợi nhất của tín đồ smartphone\n",
            "http://genk.vn/2019-se-la-nam-dang-cho-doi-nhat-cua-tin-do-smartphone-20190122232050897.chn\n",
            "\n",
            "\n",
            "http://genk.vn/tien-nu-cu-ta-mat-hoc-sinh-than-hinh-luc-si-tu-co-gai-gay-nhang-den-bieu-tuong-the-thao-dinh-dam-canada-20190131103750855.chn\n",
            "\n",
            "Lợi dụng chính phủ Mỹ đóng cửa, 60 con hải tượng chiếm luôn bãi biển nổi tiếng ở California và không chịu rời đi\n",
            "http://genk.vn/loi-dung-chinh-phu-my-dong-cua-60-con-hai-tuong-chiem-luon-bai-bien-noi-tieng-o-california-va-khong-chiu-roi-di-20190131124010792.chn\n",
            "\n",
            "Sau 2 ngày cấm, Apple cho phép các ứng dụng nội bộ của Facebook hoạt động trở lại\n",
            "http://genk.vn/sau-2-ngay-cam-apple-cho-phep-cac-ung-dung-noi-bo-cua-facebook-hoat-dong-tro-lai-20190201112714015.chn\n",
            "\n",
            "Phong tục lì xì, 12 con giáp được gìn giữ trong thời đại 4.0\n",
            "http://genk.vn/phong-tuc-li-xi-12-con-giap-duoc-gin-giu-trong-thoi-dai-40-20190130141936553.chn\n",
            "\n",
            "Google thực hiện những bước đầu tiên nhằm xóa sổ URL\n",
            "http://genk.vn/google-thuc-hien-nhung-buoc-dau-tien-nham-xoa-so-url-20190131003916678.chn\n",
            "\n",
            "LG công bố lợi nhuận kỷ lục trong năm 2018 nhưng mảng di động vẫn tiếp tục thua lỗ 700 triệu USD\n",
            "http://genk.vn/lg-cong-bo-loi-nhuan-ky-luc-trong-nam-2018-nhung-mang-di-dong-van-tiep-tuc-thua-lo-700-trieu-usd-20190201090445531.chn\n",
            "\n",
            "Vì sao máy nghe lén và tin tặc không xâm nhập nổi hệ thống của Putin?\n",
            "http://genk.vn/vi-sao-may-nghe-len-va-tin-tac-khong-xam-nhap-noi-he-thong-cua-putin-20190201084514218.chn\n",
            "\n",
            "Apple chặn tất cả ứng dụng nội bộ của Google trên iOS, bao gồm cả bản test của Gmail, Google Maps và Hangouts\n",
            "http://genk.vn/apple-khoa-tat-ca-ung-dung-noi-bo-cua-google-tren-ios-20190201083250531.chn\n",
            "\n",
            "Xin lỗi, trên đời không có món ăn nào giải được rượu đâu\n",
            "http://genk.vn/xin-loi-tren-doi-khong-co-mon-an-nao-giai-duoc-ruou-dau-20190125174650147.chn\n",
            "\n",
            "Vì sao máy nghe lén và tin tặc không xâm nhập nổi hệ thống của Putin?\n",
            "http://genk.vn/vi-sao-may-nghe-len-va-tin-tac-khong-xam-nhap-noi-he-thong-cua-putin-20190201084514218.chn\n",
            "\n",
            "Bangkok lần đầu tiên sử dụng drone phun nước vào không khí để giảm bụi độc hại PM2.5\n",
            "http://genk.vn/bangkok-lan-dau-tien-su-dung-drone-phun-nuoc-vao-khong-khi-de-giam-bui-doc-hai-pm25-20190201030503779.chn\n",
            "\n",
            "Trung Quốc chính thức công nhận chơi game là một nghề\n",
            "http://genk.vn/trung-quoc-chinh-thuc-cong-nhan-choi-game-video-la-mot-nghe-20190201003547544.chn\n",
            "\n",
            "Samsung đang tiến rất gần tới việc mua lại công ty đang nắm giữ công nghệ zoom quang học 10x này\n",
            "http://genk.vn/samsung-dang-tien-rat-gan-toi-viec-mua-lai-cong-ty-dang-nam-giu-cong-nghe-zoom-quang-hoc-10x-nay-20190128191938256.chn\n",
            "\n",
            "Apple chặn tất cả ứng dụng nội bộ của Google trên iOS, bao gồm cả bản test của Gmail, Google Maps và Hangouts\n",
            "http://genk.vn/apple-khoa-tat-ca-ung-dung-noi-bo-cua-google-tren-ios-20190201083250531.chn\n",
            "\n",
            "Tương lai của Qualcomm giờ đây nằm trong tay của vị thẩm phán từng xét xử vụ Samsung - Apple\n",
            "http://genk.vn/tuong-lai-cua-qualcomm-gio-day-nam-trong-tay-cua-vi-tham-phan-tung-xet-xu-vu-samsung-apple-20190131105815886.chn\n",
            "\n",
            "Quên 2018 đi được rồi, vì 2019 sẽ là năm đáng chờ đợi nhất của tín đồ smartphone\n",
            "http://genk.vn/2019-se-la-nam-dang-cho-doi-nhat-cua-tin-do-smartphone-20190122232050897.chn\n",
            "\n",
            "Giả mạo số điện thoại của người khác để thực hiện gọi quốc tế, tên tội phạm lĩnh án 65 tháng tù giam\n",
            "http://genk.vn/gia-mao-so-dien-thoai-cua-nguoi-khac-de-thuc-hien-goi-quoc-te-ten-toi-pham-linh-an-65-thang-tu-giam-20190131182938887.chn\n",
            "\n",
            "Báo cáo của Kantar Worldpanel: Huawei và Xiaomi thắng đậm tại châu Âu, Apple vẫn thống trị đất Mỹ\n",
            "http://genk.vn/bao-cao-cua-kantar-worldpanel-huawei-va-xiaomi-thang-dam-tai-chau-au-apple-van-thong-tri-dat-my-20190131215452543.chn\n",
            "\n",
            "Amazon vượt qua kỳ vọng của phố Wall trong kết quả Quý 4 2018, mảng đám mây mang lại 2/3 lợi nhuận cả công ty\n",
            "http://genk.vn/amazon-vuot-qua-ky-vong-cua-pho-wall-trong-ket-qua-quy-4-2018-mang-dam-may-mang-lai-2-3-loi-nhuan-ca-cong-ty-2019020107595289.chn\n",
            "\n",
            "Fan Liên Quân Mobile “phát sốt” với trend mới, Cris Devil Gamer, bé Chanh,Msuong cũng không đứng ngoài cuộc\n",
            "http://genk.vn/fan-lien-quan-mobile-phat-sot-voi-trend-moi-cris-devil-gamer-be-chanhmsuong-cung-khong-dung-ngoai-cuoc-20190131163413136.chn\n",
            "\n",
            "Sau VinaPhone, đến lượt Viettel triển khai eSIM tại Việt Nam\n",
            "http://genk.vn/sau-vinaphone-den-luot-viettel-trien-khai-esim-tai-viet-nam-20190201072944484.chn\n",
            "\n",
            "Galaxy S10 Plus lộ ảnh render chính thức với cụm 3 camera nằm ngang, màn hình đục lỗ, màu Prism White\n",
            "http://genk.vn/galaxy-s10-plus-lo-anh-render-chinh-thuc-voi-cum-3-camera-nam-ngang-man-hinh-duc-lo-mau-prism-white-20190201014829247.chn\n",
            "\n"
          ],
          "name": "stdout"
        }
      ]
    },
    {
      "metadata": {
        "id": "MVy9ODN-hGFI",
        "colab_type": "code",
        "colab": {}
      },
      "cell_type": "code",
      "source": [
        ""
      ],
      "execution_count": 0,
      "outputs": []
    }
  ]
}